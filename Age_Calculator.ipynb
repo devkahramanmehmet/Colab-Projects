{
  "nbformat": 4,
  "nbformat_minor": 0,
  "metadata": {
    "colab": {
      "provenance": [],
      "authorship_tag": "ABX9TyOFVV6WhAF+ESX4vNQDMSvE",
      "include_colab_link": true
    },
    "kernelspec": {
      "name": "python3",
      "display_name": "Python 3"
    },
    "language_info": {
      "name": "python"
    }
  },
  "cells": [
    {
      "cell_type": "markdown",
      "metadata": {
        "id": "view-in-github",
        "colab_type": "text"
      },
      "source": [
        "<a href=\"https://colab.research.google.com/github/devkahramanmehmet/Colab-Projects/blob/main/Age_Calculator.ipynb\" target=\"_parent\"><img src=\"https://colab.research.google.com/assets/colab-badge.svg\" alt=\"Open In Colab\"/></a>"
      ]
    },
    {
      "cell_type": "markdown",
      "source": [
        "# Yaş Hesaplama Makinesi"
      ],
      "metadata": {
        "id": "naZCZoXSgdIf"
      }
    },
    {
      "cell_type": "code",
      "execution_count": null,
      "metadata": {
        "id": "hFXAGZoHgYVH"
      },
      "outputs": [],
      "source": [
        "import datetime as date\n",
        "\n",
        "def calculateAge(birthDate):\n",
        "    today = date.datetime.today()\n",
        "    age = today.year - birthDate.year -((today.month, today.day) < (birthDate.month, birthDate.day))\n",
        "    return age\n",
        "\n",
        "birthDate = input(\"Please enter your birthdate on the following format (dd/mm/yyyy)\\n>>> \")\n",
        "birthDate = date.datetime.strptime(birthDate, \"%d/%m/%Y\").date()\n",
        "print(\"Your birthday is on \"+ birthDate.strftime(\"%d\") + \" of \" + birthDate.strftime(\"%B, %Y\"))\n",
        "\n",
        "print(\"You are\", calculateAge(birthDate), \"years old\")"
      ]
    }
  ]
}