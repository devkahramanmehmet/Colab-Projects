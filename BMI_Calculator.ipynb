{
  "nbformat": 4,
  "nbformat_minor": 0,
  "metadata": {
    "colab": {
      "provenance": [],
      "authorship_tag": "ABX9TyNknEcohvUc6EcLI1zxGKqd",
      "include_colab_link": true
    },
    "kernelspec": {
      "name": "python3",
      "display_name": "Python 3"
    },
    "language_info": {
      "name": "python"
    }
  },
  "cells": [
    {
      "cell_type": "markdown",
      "metadata": {
        "id": "view-in-github",
        "colab_type": "text"
      },
      "source": [
        "<a href=\"https://colab.research.google.com/github/devkahramanmehmet/Colab-Projects/blob/main/BMI_Calculator.ipynb\" target=\"_parent\"><img src=\"https://colab.research.google.com/assets/colab-badge.svg\" alt=\"Open In Colab\"/></a>"
      ]
    },
    {
      "cell_type": "code",
      "execution_count": null,
      "metadata": {
        "id": "hkIG2X9NmaBc"
      },
      "outputs": [],
      "source": []
    },
    {
      "cell_type": "markdown",
      "source": [
        "# Steps\n",
        "* take user inputs\n",
        "* define a function called bmi_calculator\n",
        "* return weight divided by height squared\n",
        "* declare a variable called \"result\" and\n",
        "* assign it the result of using the function\n",
        "* print the \"result\" variable"
      ],
      "metadata": {
        "id": "WX1BQLe0PglO"
      }
    },
    {
      "cell_type": "markdown",
      "source": [
        "First version:"
      ],
      "metadata": {
        "id": "37AJ6jKqMNo6"
      }
    },
    {
      "cell_type": "code",
      "execution_count": null,
      "metadata": {
        "id": "lV_Q0FHcmJP-"
      },
      "outputs": [],
      "source": [
        "weight = 67\n",
        "height = 1.72\n",
        "\n",
        "def bmi_calculator():\n",
        "  return weight/(height**2)\n",
        "\n",
        "result = bmi_calculator()\n",
        "print(result)"
      ]
    },
    {
      "cell_type": "markdown",
      "source": [
        "the second is:"
      ],
      "metadata": {
        "id": "0Nnj-er8MjKm"
      }
    },
    {
      "cell_type": "code",
      "source": [
        "weight = int(input())\n",
        "height = int(input())\n",
        "\n",
        "# define a function called bmi_calculator\n",
        "def bmi_calculator():\n",
        "\n",
        "  # return weight divided by height squared\n",
        "  return weight/(height**2)\n",
        "\n",
        "# declare a variable called \"result\" and\n",
        "# assign it the result of using the function\n",
        "result = bmi_calculator()\n",
        "\n",
        "# print the \"result\" variable\n",
        "print(\"result:\", result)"
      ],
      "metadata": {
        "id": "nHpztIIQL6-W"
      },
      "execution_count": null,
      "outputs": []
    },
    {
      "cell_type": "markdown",
      "source": [
        "the third is:"
      ],
      "metadata": {
        "id": "kFwu_9C8LsqC"
      }
    },
    {
      "cell_type": "code",
      "source": [
        "def bmi_calculator(weight, height):\n",
        "  bmi = round(weight / (height * height), 2)\n",
        "\n",
        "  if bmi < 18.5:\n",
        "    return (f\"{bmi} \\nYour score is underweight\")\n",
        "  elif bmi >= 18.5 and bmi < 25:\n",
        "    return (f\"{bmi} \\nYour score is normal\")\n",
        "  elif bmi >= 25 and bmi < 30:\n",
        "    return (f\"{bmi} \\nYour score is overweight\")\n",
        "  else:\n",
        "    return (f\"{bmi} \\nYour score is obese\")\n",
        "\n",
        "weight = float(input(\"Enter your weight in kilograms: \"))\n",
        "height = float(input(\"Enter your height in meters: \"))\n",
        "\n",
        "bmi = bmi_calculator(weight, height)\n",
        "print(f\"Your BMI result is: {bmi}\")"
      ],
      "metadata": {
        "id": "96eqr8fFLo_i"
      },
      "execution_count": null,
      "outputs": []
    },
    {
      "cell_type": "markdown",
      "source": [],
      "metadata": {
        "id": "3hZRL7sUQYmh"
      }
    },
    {
      "cell_type": "code",
      "source": [
        "def bmi_calculator(weight, height):\n",
        "  bmi = weight / (height * height)\n",
        "  if bmi < 18.5:\n",
        "    return \"Underweight\"\n",
        "  elif bmi >= 18.5 and bmi < 25:\n",
        "    return \"Normal weight\"\n",
        "  elif bmi >= 25 and bmi < 30:\n",
        "    return \"Overweight\"\n",
        "  else:\n",
        "    return \"Obese\"\n",
        "\n",
        "weight = float(input(\"Enter your weight in kilograms: \"))\n",
        "height = float(input(\"Enter your height in meters: \"))\n",
        "\n",
        "bmi = bmi_calculator(weight, height)\n",
        "\n",
        "print(\"Your BMI is:\", bmi)"
      ],
      "metadata": {
        "id": "uQ5WqJe4QXOK"
      },
      "execution_count": null,
      "outputs": []
    }
  ]
}